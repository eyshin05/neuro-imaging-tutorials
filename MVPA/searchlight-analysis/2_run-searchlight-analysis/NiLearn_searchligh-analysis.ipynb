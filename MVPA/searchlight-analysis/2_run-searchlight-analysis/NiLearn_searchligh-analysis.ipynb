{
 "cells": [
  {
   "cell_type": "markdown",
   "metadata": {},
   "source": [
    "# Searchligh Analysis\n",
    "* A classification problem\n",
    "  * Two conditions: positive / negative\n",
    "  \n",
    "### Data description\n",
    "* Three subjects\n",
    "  * sub-01, sub-02, sub-03\n",
    "* Images\n",
    "  * aligned in MNI space\n",
    "  * beta-values\n",
    "* Run in ROI mask\n",
    "  * Left precentral gyrus in AAL atlas"
   ]
  },
  {
   "cell_type": "code",
   "execution_count": 1,
   "metadata": {},
   "outputs": [],
   "source": [
    "# initialize data\n",
    "data_dir = '/home/ubuntu/data/'\n",
    "result_dir = '/home/ubuntu/results/'\n",
    "subj_list = ['sub-01', 'sub-02', 'sub-03']\n",
    "num_subj = len(subj_list)"
   ]
  },
  {
   "cell_type": "code",
   "execution_count": 2,
   "metadata": {},
   "outputs": [],
   "source": [
    "# initialize headers\n",
    "import nilearn.decoding\n",
    "import nilearn.image\n",
    "import pandas as pd\n",
    "import time\n",
    "\n",
    "from sklearn.model_selection import KFold"
   ]
  },
  {
   "cell_type": "markdown",
   "metadata": {},
   "source": [
    "* If you got import error in 'pandas', run `!pip3 install pandas`"
   ]
  },
  {
   "cell_type": "markdown",
   "metadata": {},
   "source": [
    "### Check data structure\n",
    "* `*_bold*.nii.gz`: beta value time-series data\n",
    "* `*_event*.csv`: behavioral table\n",
    "* `l_precentral_mask.nii.gz`: the roi mask"
   ]
  },
  {
   "cell_type": "code",
   "execution_count": 3,
   "metadata": {},
   "outputs": [
    {
     "name": "stdout",
     "output_type": "stream",
     "text": [
      "l_precentral_mask.nii.gz  sub-02_bold1.nii.gz  sub-03_bold2.nii.gz\r\n",
      "sub-01_bold1.nii.gz\t  sub-02_bold2.nii.gz  sub-03_event1.csv\r\n",
      "sub-01_bold2.nii.gz\t  sub-02_event1.csv    sub-03_event2.csv\r\n",
      "sub-01_event1.csv\t  sub-02_event2.csv\r\n",
      "sub-01_event2.csv\t  sub-03_bold1.nii.gz\r\n"
     ]
    }
   ],
   "source": [
    "!ls $data_dir"
   ]
  },
  {
   "cell_type": "markdown",
   "metadata": {},
   "source": [
    "### Check behavioral data\n",
    "* degree: The class which I want to classify\n",
    "* order: time index in beta-value time series images"
   ]
  },
  {
   "cell_type": "code",
   "execution_count": 4,
   "metadata": {},
   "outputs": [
    {
     "data": {
      "text/html": [
       "<div>\n",
       "<style scoped>\n",
       "    .dataframe tbody tr th:only-of-type {\n",
       "        vertical-align: middle;\n",
       "    }\n",
       "\n",
       "    .dataframe tbody tr th {\n",
       "        vertical-align: top;\n",
       "    }\n",
       "\n",
       "    .dataframe thead th {\n",
       "        text-align: right;\n",
       "    }\n",
       "</style>\n",
       "<table border=\"1\" class=\"dataframe\">\n",
       "  <thead>\n",
       "    <tr style=\"text-align: right;\">\n",
       "      <th></th>\n",
       "      <th>Unnamed: 0</th>\n",
       "      <th>degree</th>\n",
       "      <th>order</th>\n",
       "    </tr>\n",
       "  </thead>\n",
       "  <tbody>\n",
       "    <tr>\n",
       "      <th>0</th>\n",
       "      <td>0</td>\n",
       "      <td>-1</td>\n",
       "      <td>1</td>\n",
       "    </tr>\n",
       "    <tr>\n",
       "      <th>1</th>\n",
       "      <td>1</td>\n",
       "      <td>1</td>\n",
       "      <td>2</td>\n",
       "    </tr>\n",
       "    <tr>\n",
       "      <th>2</th>\n",
       "      <td>2</td>\n",
       "      <td>-1</td>\n",
       "      <td>3</td>\n",
       "    </tr>\n",
       "    <tr>\n",
       "      <th>3</th>\n",
       "      <td>3</td>\n",
       "      <td>1</td>\n",
       "      <td>4</td>\n",
       "    </tr>\n",
       "    <tr>\n",
       "      <th>4</th>\n",
       "      <td>4</td>\n",
       "      <td>1</td>\n",
       "      <td>5</td>\n",
       "    </tr>\n",
       "  </tbody>\n",
       "</table>\n",
       "</div>"
      ],
      "text/plain": [
       "   Unnamed: 0  degree  order\n",
       "0           0      -1      1\n",
       "1           1       1      2\n",
       "2           2      -1      3\n",
       "3           3       1      4\n",
       "4           4       1      5"
      ]
     },
     "execution_count": 4,
     "metadata": {},
     "output_type": "execute_result"
    }
   ],
   "source": [
    "labels = pd.read_csv(data_dir + 'sub-01_event1.csv')\n",
    "labels.head()"
   ]
  },
  {
   "cell_type": "markdown",
   "metadata": {},
   "source": [
    "## Run SVC searchlight\n",
    "* See here: https://nilearn.github.io/decoding/searchlight.html"
   ]
  },
  {
   "cell_type": "code",
   "execution_count": 5,
   "metadata": {
    "scrolled": true
   },
   "outputs": [
    {
     "name": "stdout",
     "output_type": "stream",
     "text": [
      "running sub-01 ...done.\n",
      "running sub-02 ...done.\n",
      "running sub-03 ...done.\n"
     ]
    }
   ],
   "source": [
    "mask_img = nilearn.image.load_img(data_dir + 'l_precentral_mask.nii.gz')\n",
    "cv = KFold(n_splits=2)\n",
    "\n",
    "for subj in subj_list:\n",
    "    print('running %s ...' % subj, end='')\n",
    "    \n",
    "    # initializing searchlight instance\n",
    "    searchlight = nilearn.decoding.SearchLight(\n",
    "        mask_img,\n",
    "        radius=5,\n",
    "        estimator='svc',\n",
    "        n_jobs=2,\n",
    "        verbose=False,\n",
    "        cv=cv\n",
    "    )\n",
    "    \n",
    "    # loading behavioral data\n",
    "    label1 = pd.read_csv(data_dir + '%s_event1.csv' % subj)\n",
    "    label2 = pd.read_csv(data_dir + '%s_event2.csv' % subj)\n",
    "    \n",
    "    # loading fMRI images\n",
    "    run1_img = nilearn.image.load_img(data_dir + '%s_bold1.nii.gz' % subj)\n",
    "    run2_img = nilearn.image.load_img(data_dir + '%s_bold2.nii.gz' % subj)\n",
    "    \n",
    "    # slicing images with order\n",
    "    run1_img = nilearn.image.index_img(run1_img, label1['order']-1)\n",
    "    run2_img = nilearn.image.index_img(run2_img, label2['order']-1)\n",
    "    \n",
    "    # preparing data\n",
    "    X = nilearn.image.concat_imgs([run1_img, run2_img])\n",
    "    y = list(label1['degree']) + list(label2['degree'])\n",
    "    group = [1 for _ in label1['degree']] + [2 for _ in label2['degree']]\n",
    "    \n",
    "    # run searchlight\n",
    "    searchlight.fit(X, y, group)\n",
    "    \n",
    "    # save result image\n",
    "    result_img = nilearn.image.new_img_like(mask_img, searchlight.scores_)\n",
    "    result_img.to_filename(result_dir + '%s_result.nii.gz' % subj)\n",
    "    \n",
    "    print('done.')"
   ]
  },
  {
   "cell_type": "markdown",
   "metadata": {},
   "source": [
    "# Comparing results\n",
    "* Run group analysis with one sample t-test\n",
    "* See here: https://nilearn.github.io/modules/generated/nilearn.mass_univariate.permuted_ols.html"
   ]
  },
  {
   "cell_type": "code",
   "execution_count": 6,
   "metadata": {},
   "outputs": [
    {
     "name": "stdout",
     "output_type": "stream",
     "text": [
      "sub-01_result.nii.gz  sub-02_result.nii.gz  sub-03_result.nii.gz\r\n"
     ]
    }
   ],
   "source": [
    "!ls $result_dir"
   ]
  },
  {
   "cell_type": "code",
   "execution_count": 7,
   "metadata": {},
   "outputs": [],
   "source": [
    "# initialize header\n",
    "import numpy as np\n",
    "import nilearn.mass_univariate"
   ]
  },
  {
   "cell_type": "code",
   "execution_count": 8,
   "metadata": {},
   "outputs": [],
   "source": [
    "# load data\n",
    "\n",
    "scores_each_subject = []\n",
    "\n",
    "for subj in subj_list:\n",
    "    score = nilearn.image.load_img(result_dir + '%s_result.nii.gz' % subj).get_data()\n",
    "    scores_each_subject.append(score)\n",
    "    \n",
    "scores_each_subject = np.array(scores_each_subject)"
   ]
  },
  {
   "cell_type": "code",
   "execution_count": 9,
   "metadata": {},
   "outputs": [
    {
     "name": "stdout",
     "output_type": "stream",
     "text": [
      "sub-01: mean 0.52, median 0.52, std 0.05\n",
      "sub-02: mean 0.51, median 0.51, std 0.05\n",
      "sub-03: mean 0.51, median 0.51, std 0.04\n"
     ]
    }
   ],
   "source": [
    "# show data summary\n",
    "\n",
    "shape = scores_each_subject[1, :, :, :].shape\n",
    "\n",
    "for i, subj in enumerate(subj_list):\n",
    "    data = scores_each_subject[i, :, :, :].flat\n",
    "    \n",
    "    mean = np.mean(data[np.nonzero(data)])\n",
    "    std = np.std(data[np.nonzero(data)])\n",
    "    median = np.median(data[np.nonzero(data)])\n",
    "    print('%s: mean %.2f, median %.2f, std %.2f' % (subj, mean, median, std))\n",
    "    \n",
    "    # sub chance level\n",
    "    scores_each_subject[i, :, :, :] = (scores_each_subject[i, :, :, :] - 0.5) "
   ]
  },
  {
   "cell_type": "code",
   "execution_count": 10,
   "metadata": {},
   "outputs": [
    {
     "name": "stdout",
     "output_type": "stream",
     "text": [
      "0, 0, ..., \r"
     ]
    },
    {
     "name": "stderr",
     "output_type": "stream",
     "text": [
      "/home/ubuntu/.local/lib/python3.5/site-packages/nilearn/mass_univariate/permuted_least_squares.py:138: RuntimeWarning: invalid value encountered in sqrt\n",
      "  return beta_targetvars_testedvars * np.sqrt((dof - 1.) / rss)\n"
     ]
    },
    {
     "name": "stdout",
     "output_type": "stream",
     "text": [
      "6, 11, ..., \r"
     ]
    },
    {
     "name": "stderr",
     "output_type": "stream",
     "text": [
      "/home/ubuntu/.local/lib/python3.5/site-packages/nilearn/mass_univariate/permuted_least_squares.py:138: RuntimeWarning: divide by zero encountered in true_divide\n",
      "  return beta_targetvars_testedvars * np.sqrt((dof - 1.) / rss)\n"
     ]
    },
    {
     "name": "stdout",
     "output_type": "stream",
     "text": [
      "26, 25, ..., \r"
     ]
    }
   ],
   "source": [
    "# perform statistical test and save t map\n",
    "\n",
    "t_img = np.zeros(shape)\n",
    "p_img = np.zeros(shape)\n",
    "\n",
    "for j in range(shape[0]):\n",
    "    for k in range(shape[1]):\n",
    "        for l in range(shape[2]):\n",
    "            # check voxel is in group mask\n",
    "            if scores_each_subject[0, j, k, l] != 0:\n",
    "                # perform permuted OLS\n",
    "                p_score, t_score, _ = nilearn.mass_univariate.permuted_ols(\n",
    "                    np.ones((num_subj, 1)),  # one group\n",
    "                    scores_each_subject[:, j, k, l].reshape(-1, 1),  # make data (num_subject, data vector)\n",
    "                    n_perm=100,\n",
    "                    two_sided_test=True,\n",
    "                    n_jobs=2)\n",
    "                \n",
    "                # save results as image\n",
    "                t_img[j, k, l] = t_score\n",
    "                p_img[j, k, l] = p_score\n",
    "\n",
    "        print('%d, %d, ..., ' % (j, k), end='\\r')\n",
    "        \n",
    "t_img = nilearn.image.new_img_like(mask_img, t_img)\n",
    "t_img.to_filename(result_dir + 'tstat.nii.gz')\n",
    "\n",
    "p_img = nilearn.image.new_img_like(mask_img, p_img)\n",
    "p_img.to_filename(result_dir + 'pstat.nii.gz')"
   ]
  }
 ],
 "metadata": {
  "kernelspec": {
   "display_name": "Python 3",
   "language": "python",
   "name": "python3"
  },
  "language_info": {
   "codemirror_mode": {
    "name": "ipython",
    "version": 3
   },
   "file_extension": ".py",
   "mimetype": "text/x-python",
   "name": "python",
   "nbconvert_exporter": "python",
   "pygments_lexer": "ipython3",
   "version": "3.5.2"
  }
 },
 "nbformat": 4,
 "nbformat_minor": 2
}
